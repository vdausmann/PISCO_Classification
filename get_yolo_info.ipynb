{
 "cells": [
  {
   "cell_type": "code",
   "execution_count": 44,
   "metadata": {},
   "outputs": [],
   "source": [
    "import csv\n",
    "import cv2 as cv\n",
    "import numpy as np\n",
    "import os\n",
    "\n",
    "\n",
    "def get_object_info(file_path, result_path, txt_path):\n",
    "\n",
    "    def find_object(img):\n",
    "        \"\"\"Finds the largest object and computes the esd.\n",
    "        Args:\n",
    "            img (np.array): gray scale image\n",
    "        Returns:\n",
    "            ESD: 2 * sqrt(Area / PI)\n",
    "        \"\"\"\n",
    "        max_val = np.mean(img) - np.std(img)\n",
    "\n",
    "        img_c = img.copy()\n",
    "        img_c[np.where(img < max_val)] = 255\n",
    "        img_c[np.where(img >= max_val)] = 0\n",
    "        img = img_c\n",
    "        thresh = img\n",
    "        # thresh = cv.threshold(img, max_val, 255, cv.THRESH_BINARY)[1]\n",
    "\n",
    "        cnts = cv.findContours(thresh, cv.RETR_EXTERNAL, cv.CHAIN_APPROX_NONE)[0]\n",
    "        cnt_areas = {cv.contourArea(cnt): cnt for cnt in cnts}\n",
    "        if cnt_areas:\n",
    "            cnt_areas_list = list(cnt_areas)\n",
    "            cnt_areas_list.sort()\n",
    "            max_area = cnt_areas_list[-1]\n",
    "            esd = 2 * np.sqrt(max_area / np.pi)\n",
    "            return esd\n",
    "        else:\n",
    "            return 0\n",
    "\n",
    "    fns = os.listdir(file_path)\n",
    "    result_path = result_path\n",
    "    txt_path = txt_path\n",
    "    info = []\n",
    "\n",
    "    for fn in fns:\n",
    "        fn = os.path.join(file_path, fn)\n",
    "        fn, ending = fn[:-4], fn[-4:]\n",
    "        txtfn = os.path.join(txt_path, fn[-55:])\n",
    "        try:\n",
    "            pos = fn.find('bar')\n",
    "            try:\n",
    "                depth = float(fn[pos-5:pos])\n",
    "                depth = (depth-1)/0.1\n",
    "            except ValueError:\n",
    "                depth = float(fn[pos-4:pos])\n",
    "                depth = (depth-1)/0.1\n",
    "        except:\n",
    "            continue\n",
    "            \n",
    "        #print(txtfn)\n",
    "        if ending == \".jpg\" or ending == \".tif\" or ending == \".png\":\n",
    "            img = cv.imread(fn + ending)\n",
    "            try:\n",
    "                bounding_info = np.loadtxt(txtfn + \".txt\")\n",
    "                #print('found: ' + fn +'.txt')\n",
    "            except:\n",
    "                continue\n",
    "            img_h, img_w = img.shape[:2]\n",
    "\n",
    "            for counter, ( instclass, rel_x, rel_y, rel_w, rel_h, conf) in enumerate(bounding_info):\n",
    "                c_x = round(rel_x * img_w)  #x-position of center\n",
    "                c_y = round(rel_y * img_h)  #y-position of center\n",
    "                w = round(rel_w * img_w)\n",
    "                h = round(rel_h * img_h)\n",
    "                x = c_x - w // 2            #x-position of top-left corner\n",
    "                y = c_y - h // 2            #y-position of top-left corner\n",
    "\n",
    "                crop = img[y:y+h, x:x+w]\n",
    "                \n",
    "                gray = cv.cvtColor(crop, cv.COLOR_BGR2GRAY)\n",
    "                esd = find_object(gray)\n",
    "\n",
    "                info.append((fn, counter, c_x, c_y, w, h, x, y, esd, instclass, depth))\n",
    "\n",
    "    with open(result_path, \"w\", newline=\"\") as f:\n",
    "        writer = csv.writer(f, delimiter=\";\")\n",
    "        writer.writerow([\"Filename\", \"ID\", \"Center x in px\", \"Center y in px\", \"Width in px\", \"Height in px\", \"x in px\", \"y in px\", \"ESD in px\", \"class\", \"depth in meters below surface\"])\n",
    "        for row in info:\n",
    "            writer.writerow(row)\n"
   ]
  },
  {
   "cell_type": "code",
   "execution_count": 45,
   "metadata": {},
   "outputs": [
    {
     "name": "stdout",
     "output_type": "stream",
     "text": [
      "labels:/Users/vdausmann/pytorch-test/yolov5/runs/detect/15_03_2020_1651_M4/labels\n"
     ]
    }
   ],
   "source": [
    "from tkinter.filedialog import askdirectory\n",
    "\n",
    "IMG_PATH = askdirectory(title=\"Image Path\")\n",
    "TXT_PATH = askdirectory(title=\"Label Path\")\n",
    "RESULT_PATH = TXT_PATH + '/results.csv'\n",
    "\n",
    "print('labels:' + TXT_PATH)\n",
    "get_object_info(IMG_PATH, RESULT_PATH, TXT_PATH)"
   ]
  }
 ],
 "metadata": {
  "interpreter": {
   "hash": "31f2aee4e71d21fbe5cf8b01ff0e069b9275f58929596ceb00d14d90e3e16cd6"
  },
  "kernelspec": {
   "display_name": "Python 3.8.9 64-bit",
   "language": "python",
   "name": "python3"
  },
  "language_info": {
   "codemirror_mode": {
    "name": "ipython",
    "version": 3
   },
   "file_extension": ".py",
   "mimetype": "text/x-python",
   "name": "python",
   "nbconvert_exporter": "python",
   "pygments_lexer": "ipython3",
   "version": "3.8.9"
  },
  "orig_nbformat": 4
 },
 "nbformat": 4,
 "nbformat_minor": 2
}
