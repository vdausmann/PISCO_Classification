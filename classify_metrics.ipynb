{
 "cells": [
  {
   "cell_type": "code",
   "execution_count": 29,
   "metadata": {},
   "outputs": [],
   "source": [
    "import os"
   ]
  },
  {
   "cell_type": "code",
   "execution_count": 30,
   "metadata": {},
   "outputs": [],
   "source": [
    "true_positives = os.listdir('/home/plankton/Results/Peru/crops/15_03_2020/training_set/copepod')\n",
    "false_positives = os.listdir('/home/plankton/Results/Peru/crops/15_03_2020/training_set/unknown')\n",
    "true_negatives = os.listdir('/home/plankton/Results/Peru/crops/15_03_2020/training_set_hat/unknown')\n",
    "false_negatives = os.listdir('/home/plankton/Results/Peru/crops/15_03_2020/training_set_hat/copepod')"
   ]
  },
  {
   "cell_type": "code",
   "execution_count": 31,
   "metadata": {},
   "outputs": [
    {
     "name": "stdout",
     "output_type": "stream",
     "text": [
      "------- Evaluation of copepod AI classifier, manually controlled--------\n",
      "accuracy: 0.9857299670691547\n",
      "precision: 0.9735772357723578\n",
      "recall: 1.0\n",
      "specificity: 0.9699074074074074\n",
      "f1-score: 0.9866117404737385\n",
      "TP: 479, FP: 13, TN: 419, FN: 0\n"
     ]
    }
   ],
   "source": [
    "print('------- Evaluation of copepod AI classifier, manually controlled--------')\n",
    "accuracy = (len(true_positives)+len(true_negatives))/(len(true_negatives)+len(true_positives)+len(false_negatives)+len(false_positives))\n",
    "print(f'accuracy: {accuracy}')\n",
    "precision = len(true_positives)/(len(true_positives)+len(false_positives))\n",
    "print(f'precision: {precision}')\n",
    "recall = len(true_positives)/(len(true_positives)+len(false_negatives))\n",
    "print(f'recall: {recall}')\n",
    "specificity = len(true_negatives)/(len(true_negatives)+len(false_positives))\n",
    "print(f'specificity: {specificity}')\n",
    "f1_score = 2*(precision*recall/(precision+recall))\n",
    "print(f'f1-score: {f1_score}')\n",
    "print(f'TP: {len(true_positives)}, FP: {len(false_positives)}, TN: {len(true_negatives)}, FN: {len(false_negatives)}')"
   ]
  },
  {
   "cell_type": "code",
   "execution_count": 32,
   "metadata": {},
   "outputs": [],
   "source": [
    "##### For the following profiles Instances were skipped! -> not representative"
   ]
  },
  {
   "cell_type": "code",
   "execution_count": 33,
   "metadata": {},
   "outputs": [],
   "source": [
    "eval_dir = '/home/plankton/Results/Peru/crops/05_03_2020/'\n",
    "true_positives = os.listdir(os.path.join(eval_dir,'training_set/copepod'))\n",
    "false_positives = os.listdir(os.path.join(eval_dir,'training_set/unknown'))\n",
    "true_negatives = os.listdir(os.path.join(eval_dir,'training_set_hat/unknown'))\n",
    "false_negatives = os.listdir(os.path.join(eval_dir,'training_set_hat/copepod'))"
   ]
  },
  {
   "cell_type": "code",
   "execution_count": 34,
   "metadata": {},
   "outputs": [
    {
     "name": "stdout",
     "output_type": "stream",
     "text": [
      "------- Evaluation of copepod AI classifier, manually controlled--------\n",
      "accuracy: 0.4342105263157895\n",
      "precision: 0.31954225352112675\n",
      "recall: 0.9972527472527473\n",
      "specificity: 0.2300796812749004\n",
      "f1-score: 0.484\n",
      "TP: 363, FP: 773, TN: 231, FN: 1\n"
     ]
    }
   ],
   "source": [
    "print('------- Evaluation of copepod AI classifier, manually controlled--------')\n",
    "accuracy = (len(true_positives)+len(true_negatives))/(len(true_negatives)+len(true_positives)+len(false_negatives)+len(false_positives))\n",
    "print(f'accuracy: {accuracy}')\n",
    "precision = len(true_positives)/(len(true_positives)+len(false_positives))\n",
    "print(f'precision: {precision}')\n",
    "recall = len(true_positives)/(len(true_positives)+len(false_negatives))\n",
    "print(f'recall: {recall}')\n",
    "specificity = len(true_negatives)/(len(true_negatives)+len(false_positives))\n",
    "print(f'specificity: {specificity}')\n",
    "f1_score = 2*(precision*recall/(precision+recall))\n",
    "print(f'f1-score: {f1_score}')\n",
    "print(f'TP: {len(true_positives)}, FP: {len(false_positives)}, TN: {len(true_negatives)}, FN: {len(false_negatives)}')"
   ]
  },
  {
   "cell_type": "code",
   "execution_count": 35,
   "metadata": {},
   "outputs": [],
   "source": [
    "eval_dir = '/home/plankton/Results/Peru/crops/31_03_2020/'\n",
    "true_positives = os.listdir(os.path.join(eval_dir,'training_set/copepod'))\n",
    "false_positives = os.listdir(os.path.join(eval_dir,'training_set/unknown'))\n",
    "true_negatives = os.listdir(os.path.join(eval_dir,'training_set_hat/unknown'))\n",
    "false_negatives = os.listdir(os.path.join(eval_dir,'training_set_hat/copepod'))"
   ]
  },
  {
   "cell_type": "code",
   "execution_count": 36,
   "metadata": {},
   "outputs": [
    {
     "name": "stdout",
     "output_type": "stream",
     "text": [
      "------- Evaluation of copepod AI classifier, manually controlled--------\n",
      "accuracy: 0.556390977443609\n",
      "precision: 0.09751434034416825\n",
      "recall: 1.0\n",
      "specificity: 0.5340572556762093\n",
      "f1-score: 0.17770034843205573\n",
      "TP: 51, FP: 472, TN: 541, FN: 0\n"
     ]
    }
   ],
   "source": [
    "print('------- Evaluation of copepod AI classifier, manually controlled--------')\n",
    "accuracy = (len(true_positives)+len(true_negatives))/(len(true_negatives)+len(true_positives)+len(false_negatives)+len(false_positives))\n",
    "print(f'accuracy: {accuracy}')\n",
    "precision = len(true_positives)/(len(true_positives)+len(false_positives))\n",
    "print(f'precision: {precision}')\n",
    "recall = len(true_positives)/(len(true_positives)+len(false_negatives))\n",
    "print(f'recall: {recall}')\n",
    "specificity = len(true_negatives)/(len(true_negatives)+len(false_positives))\n",
    "print(f'specificity: {specificity}')\n",
    "f1_score = 2*(precision*recall/(precision+recall))\n",
    "print(f'f1-score: {f1_score}')\n",
    "print(f'TP: {len(true_positives)}, FP: {len(false_positives)}, TN: {len(true_negatives)}, FN: {len(false_negatives)}')"
   ]
  },
  {
   "cell_type": "code",
   "execution_count": 37,
   "metadata": {},
   "outputs": [],
   "source": [
    "eval_dir = '/home/plankton/Results/Peru/crops/17_03_2020/'\n",
    "true_positives = os.listdir(os.path.join(eval_dir,'training_set/copepod'))\n",
    "false_positives = os.listdir(os.path.join(eval_dir,'training_set/unknown'))\n",
    "true_negatives = os.listdir(os.path.join(eval_dir,'training_set_hat/unknown'))\n",
    "false_negatives = os.listdir(os.path.join(eval_dir,'training_set_hat/copepod'))"
   ]
  },
  {
   "cell_type": "code",
   "execution_count": 38,
   "metadata": {},
   "outputs": [
    {
     "name": "stdout",
     "output_type": "stream",
     "text": [
      "------- Evaluation of copepod AI classifier, manually controlled--------\n",
      "accuracy: 0.9704968944099379\n",
      "precision: 0.9411764705882353\n",
      "recall: 1.0\n",
      "specificity: 0.9441176470588235\n",
      "f1-score: 0.9696969696969697\n",
      "TP: 912, FP: 57, TN: 963, FN: 0\n"
     ]
    }
   ],
   "source": [
    "print('------- Evaluation of copepod AI classifier, manually controlled--------')\n",
    "accuracy = (len(true_positives)+len(true_negatives))/(len(true_negatives)+len(true_positives)+len(false_negatives)+len(false_positives))\n",
    "print(f'accuracy: {accuracy}')\n",
    "precision = len(true_positives)/(len(true_positives)+len(false_positives))\n",
    "print(f'precision: {precision}')\n",
    "recall = len(true_positives)/(len(true_positives)+len(false_negatives))\n",
    "print(f'recall: {recall}')\n",
    "specificity = len(true_negatives)/(len(true_negatives)+len(false_positives))\n",
    "print(f'specificity: {specificity}')\n",
    "f1_score = 2*(precision*recall/(precision+recall))\n",
    "print(f'f1-score: {f1_score}')\n",
    "print(f'TP: {len(true_positives)}, FP: {len(false_positives)}, TN: {len(true_negatives)}, FN: {len(false_negatives)}')"
   ]
  }
 ],
 "metadata": {
  "kernelspec": {
   "display_name": "Python 3",
   "language": "python",
   "name": "python3"
  },
  "language_info": {
   "codemirror_mode": {
    "name": "ipython",
    "version": 3
   },
   "file_extension": ".py",
   "mimetype": "text/x-python",
   "name": "python",
   "nbconvert_exporter": "python",
   "pygments_lexer": "ipython3",
   "version": "3.10.6"
  },
  "orig_nbformat": 4,
  "vscode": {
   "interpreter": {
    "hash": "916dbcbb3f70747c44a77c7bcd40155683ae19c65e1c03b4aa3499c5328201f1"
   }
  }
 },
 "nbformat": 4,
 "nbformat_minor": 2
}
