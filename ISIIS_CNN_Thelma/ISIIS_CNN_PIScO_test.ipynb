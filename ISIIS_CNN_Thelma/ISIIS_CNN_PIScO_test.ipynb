{
 "cells": [
  {
   "cell_type": "code",
   "execution_count": 1,
   "metadata": {},
   "outputs": [],
   "source": [
    "import pickle"
   ]
  },
  {
   "cell_type": "code",
   "execution_count": 2,
   "metadata": {},
   "outputs": [],
   "source": [
    "with open('settings-2.pickle','rb') as file:\n",
    "    settings = pickle.load(file)"
   ]
  },
  {
   "cell_type": "code",
   "execution_count": 4,
   "metadata": {},
   "outputs": [
    {
     "data": {
      "text/plain": [
       "{'global_settings': {'random_state': 12,\n",
       "  'input_data': {'instrument': 'isiis', 'frac': 1}},\n",
       " 'cnn_settings': {'data': {'batch_size': 256,\n",
       "   'px_del': 31,\n",
       "   'preserve_size': False,\n",
       "   'augment': True,\n",
       "   'use_weights': True,\n",
       "   'weights': 'sqrt_i_f'},\n",
       "  'architecture': {'fc_layers_nb': 1,\n",
       "   'fc_layers_size': 680,\n",
       "   'fc_layers_dropout': 0.5,\n",
       "   'classif_layer_dropout': None,\n",
       "   'train_fe': True},\n",
       "  'compilation': {'lr_method': 'decay',\n",
       "   'initial_lr': 0.001,\n",
       "   'decay_rate': 0.97,\n",
       "   'loss': 'cce'},\n",
       "  'training': {'resume': False, 'epochs': 60, 'workers': 10}}}"
      ]
     },
     "execution_count": 4,
     "metadata": {},
     "output_type": "execute_result"
    }
   ],
   "source": [
    "settings"
   ]
  }
 ],
 "metadata": {
  "kernelspec": {
   "display_name": "Python 3",
   "language": "python",
   "name": "python3"
  },
  "language_info": {
   "codemirror_mode": {
    "name": "ipython",
    "version": 3
   },
   "file_extension": ".py",
   "mimetype": "text/x-python",
   "name": "python",
   "nbconvert_exporter": "python",
   "pygments_lexer": "ipython3",
   "version": "3.10.12"
  },
  "orig_nbformat": 4
 },
 "nbformat": 4,
 "nbformat_minor": 2
}
